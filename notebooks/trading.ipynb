{
  "nbformat": 4,
  "nbformat_minor": 0,
  "metadata": {
    "colab": {
      "provenance": [],
      "include_colab_link": true
    },
    "kernelspec": {
      "name": "python3",
      "display_name": "Python 3"
    },
    "language_info": {
      "name": "python"
    }
  },
  "cells": [
    {
      "cell_type": "markdown",
      "metadata": {
        "id": "view-in-github",
        "colab_type": "text"
      },
      "source": [
        "<a href=\"https://colab.research.google.com/github/weilainicolas/Trading/blob/main/notebooks/trading.ipynb\" target=\"_parent\"><img src=\"https://colab.research.google.com/assets/colab-badge.svg\" alt=\"Open In Colab\"/></a>"
      ]
    },
    {
      "cell_type": "code",
      "source": [
        "import yfinance as yf\n",
        "from datetime import datetime, timedelta\n",
        "import pandas as pd\n",
        "\n",
        "\n",
        "def find_cross_above_50_200_ma(symbol):\n",
        "    try:\n",
        "        today = datetime.now().date()\n",
        "        # Fetch historical data\n",
        "        stock_data = yf.download(symbol, period=\"1y\")\n",
        "\n",
        "        # Calculate moving averages\n",
        "        stock_data['50MA'] = stock_data['Close'].rolling(window=50).mean()\n",
        "        stock_data['200MA'] = stock_data['Close'].rolling(window=200).mean()\n",
        "\n",
        "        # Find dates where 50MA crossed above 200MA\n",
        "        cross_dates = stock_data[(stock_data['50MA'] > stock_data['200MA']) & (stock_data['50MA'].shift(1) < stock_data['200MA'].shift(1))].index\n",
        "\n",
        "        # Check if the crossing happened within the last 5 days\n",
        "        recent_cross_dates = [date for date in cross_dates if (datetime.now() - date).days <= 5]\n",
        "\n",
        "        return symbol, recent_cross_dates\n",
        "    except Exception as e:\n",
        "        print(f\"Error fetching data for {symbol}: {e}\")\n",
        "        return symbol, []\n",
        "\n",
        "# Get list of S&P 500 symbols\n",
        "sp500_symbols = pd.read_html(\n",
        "    'https://en.wikipedia.org/wiki/List_of_S%26P_500_companies')[0]\n",
        "\n",
        "crossed_stocks = []\n",
        "\n",
        "# Loop through all S&P 500 symbols\n",
        "for symbol in sp500_symbols['Symbol']:\n",
        "    symbol, cross_dates = find_cross_above_50_200_ma(symbol)\n",
        "    if cross_dates:\n",
        "        crossed_stocks.append((symbol, cross_dates))\n",
        "\n",
        "print(crossed_stocks)\n"
      ],
      "metadata": {
        "id": "TTU2Xljr7gEn"
      },
      "execution_count": null,
      "outputs": []
    },
    {
      "cell_type": "code",
      "execution_count": null,
      "metadata": {
        "id": "7-KxWCEp7WLN"
      },
      "outputs": [],
      "source": [
        "import yfinance as yf\n",
        "import pandas as pd\n",
        "from datetime import datetime, timedelta\n",
        "\n",
        "def find_stocks_rsi_below_30(symbol):\n",
        "    try:\n",
        "        # Fetch historical data\n",
        "        stock_data = yf.download(symbol,period=\"1y\" )\n",
        "\n",
        "        # Calculate daily RSI\n",
        "        delta = stock_data['Close'].diff(1).dropna()\n",
        "        gain = delta.where(delta > 0, 0)\n",
        "        loss = -delta.where(delta < 0, 0)\n",
        "\n",
        "        avg_gain = gain.rolling(window=14).mean()\n",
        "        avg_loss = loss.rolling(window=14).mean()\n",
        "\n",
        "        rs = avg_gain / avg_loss\n",
        "        rsi = 100 - (100 / (1 + rs))\n",
        "\n",
        "        # Check if RSI dropped below 30 within the last 3 days\n",
        "        if any(rsi.iloc[-4:] < 30):\n",
        "            return symbol, rsi.iloc[-1]\n",
        "        else:\n",
        "            return None\n",
        "    except Exception as e:\n",
        "        print(f\"Error fetching data for {symbol}: {e}\")\n",
        "        return None\n",
        "\n",
        "# Get list of NASDAQ symbols\n",
        "\n",
        "\n",
        "# Find stocks with RSI below 30 within the last 3 days\n",
        "stocks_rsi_below_30 = []\n",
        "\n",
        "# Loop through all NASDAQ symbols\n",
        "for symbol in sp500_symbols['Symbol']:\n",
        "    result = find_stocks_rsi_below_30(symbol)\n",
        "    if result:\n",
        "        stocks_rsi_below_30.append(result)\n",
        "\n",
        "# Convert results to DataFrame\n",
        "df_stocks_rsi_below_30 = pd.DataFrame(stocks_rsi_below_30, columns=['Symbol', 'RSI'])\n",
        "\n",
        "print(df_stocks_rsi_below_30)\n"
      ]
    }
  ]
}